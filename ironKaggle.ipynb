{
 "cells": [
  {
   "cell_type": "code",
   "execution_count": 1,
   "metadata": {},
   "outputs": [],
   "source": [
    "import pandas as pd\n",
    "import numpy as np\n",
    "import matplotlib.pyplot as plt\n",
    "import seaborn as sns\n",
    "\n",
    "from sklearn.preprocessing import MinMaxScaler, OrdinalEncoder\n",
    "from sklearn.metrics import r2_score, mean_squared_error\n",
    "\n",
    "import scipy.stats as st\n",
    "\n",
    "from sklearn.model_selection import train_test_split, cross_val_score, GridSearchCV\n",
    "from sklearn.ensemble import RandomForestRegressor\n",
    "from sklearn.tree import DecisionTreeRegressor\n",
    "from sklearn.linear_model import LinearRegression"
   ]
  },
  {
   "cell_type": "markdown",
   "metadata": {},
   "source": [
    "#### retrieve data"
   ]
  },
  {
   "cell_type": "code",
   "execution_count": 2,
   "metadata": {},
   "outputs": [
    {
     "data": {
      "text/html": [
       "<div>\n",
       "<style scoped>\n",
       "    .dataframe tbody tr th:only-of-type {\n",
       "        vertical-align: middle;\n",
       "    }\n",
       "\n",
       "    .dataframe tbody tr th {\n",
       "        vertical-align: top;\n",
       "    }\n",
       "\n",
       "    .dataframe thead th {\n",
       "        text-align: right;\n",
       "    }\n",
       "</style>\n",
       "<table border=\"1\" class=\"dataframe\">\n",
       "  <thead>\n",
       "    <tr style=\"text-align: right;\">\n",
       "      <th></th>\n",
       "      <th>store_id</th>\n",
       "      <th>day_of_week</th>\n",
       "      <th>date</th>\n",
       "      <th>nb_customers_on_day</th>\n",
       "      <th>open</th>\n",
       "      <th>promotion</th>\n",
       "      <th>state_holiday</th>\n",
       "      <th>school_holiday</th>\n",
       "      <th>sales</th>\n",
       "    </tr>\n",
       "  </thead>\n",
       "  <tbody>\n",
       "    <tr>\n",
       "      <th>425390</th>\n",
       "      <td>366</td>\n",
       "      <td>4</td>\n",
       "      <td>2013-04-18</td>\n",
       "      <td>517</td>\n",
       "      <td>1</td>\n",
       "      <td>0</td>\n",
       "      <td>0</td>\n",
       "      <td>0</td>\n",
       "      <td>4422</td>\n",
       "    </tr>\n",
       "    <tr>\n",
       "      <th>291687</th>\n",
       "      <td>394</td>\n",
       "      <td>6</td>\n",
       "      <td>2015-04-11</td>\n",
       "      <td>694</td>\n",
       "      <td>1</td>\n",
       "      <td>0</td>\n",
       "      <td>0</td>\n",
       "      <td>0</td>\n",
       "      <td>8297</td>\n",
       "    </tr>\n",
       "    <tr>\n",
       "      <th>411278</th>\n",
       "      <td>807</td>\n",
       "      <td>4</td>\n",
       "      <td>2013-08-29</td>\n",
       "      <td>970</td>\n",
       "      <td>1</td>\n",
       "      <td>1</td>\n",
       "      <td>0</td>\n",
       "      <td>0</td>\n",
       "      <td>9729</td>\n",
       "    </tr>\n",
       "    <tr>\n",
       "      <th>664714</th>\n",
       "      <td>802</td>\n",
       "      <td>2</td>\n",
       "      <td>2013-05-28</td>\n",
       "      <td>473</td>\n",
       "      <td>1</td>\n",
       "      <td>1</td>\n",
       "      <td>0</td>\n",
       "      <td>0</td>\n",
       "      <td>6513</td>\n",
       "    </tr>\n",
       "    <tr>\n",
       "      <th>540835</th>\n",
       "      <td>726</td>\n",
       "      <td>4</td>\n",
       "      <td>2013-10-10</td>\n",
       "      <td>1068</td>\n",
       "      <td>1</td>\n",
       "      <td>1</td>\n",
       "      <td>0</td>\n",
       "      <td>0</td>\n",
       "      <td>10882</td>\n",
       "    </tr>\n",
       "    <tr>\n",
       "      <th>...</th>\n",
       "      <td>...</td>\n",
       "      <td>...</td>\n",
       "      <td>...</td>\n",
       "      <td>...</td>\n",
       "      <td>...</td>\n",
       "      <td>...</td>\n",
       "      <td>...</td>\n",
       "      <td>...</td>\n",
       "      <td>...</td>\n",
       "    </tr>\n",
       "    <tr>\n",
       "      <th>359783</th>\n",
       "      <td>409</td>\n",
       "      <td>6</td>\n",
       "      <td>2013-10-26</td>\n",
       "      <td>483</td>\n",
       "      <td>1</td>\n",
       "      <td>0</td>\n",
       "      <td>0</td>\n",
       "      <td>0</td>\n",
       "      <td>4553</td>\n",
       "    </tr>\n",
       "    <tr>\n",
       "      <th>152315</th>\n",
       "      <td>97</td>\n",
       "      <td>1</td>\n",
       "      <td>2014-04-14</td>\n",
       "      <td>987</td>\n",
       "      <td>1</td>\n",
       "      <td>1</td>\n",
       "      <td>0</td>\n",
       "      <td>0</td>\n",
       "      <td>12307</td>\n",
       "    </tr>\n",
       "    <tr>\n",
       "      <th>117952</th>\n",
       "      <td>987</td>\n",
       "      <td>1</td>\n",
       "      <td>2014-07-07</td>\n",
       "      <td>925</td>\n",
       "      <td>1</td>\n",
       "      <td>0</td>\n",
       "      <td>0</td>\n",
       "      <td>0</td>\n",
       "      <td>6800</td>\n",
       "    </tr>\n",
       "    <tr>\n",
       "      <th>435829</th>\n",
       "      <td>1084</td>\n",
       "      <td>4</td>\n",
       "      <td>2014-06-12</td>\n",
       "      <td>725</td>\n",
       "      <td>1</td>\n",
       "      <td>0</td>\n",
       "      <td>0</td>\n",
       "      <td>0</td>\n",
       "      <td>5344</td>\n",
       "    </tr>\n",
       "    <tr>\n",
       "      <th>305711</th>\n",
       "      <td>695</td>\n",
       "      <td>7</td>\n",
       "      <td>2015-05-03</td>\n",
       "      <td>0</td>\n",
       "      <td>0</td>\n",
       "      <td>0</td>\n",
       "      <td>0</td>\n",
       "      <td>0</td>\n",
       "      <td>0</td>\n",
       "    </tr>\n",
       "  </tbody>\n",
       "</table>\n",
       "<p>640840 rows × 9 columns</p>\n",
       "</div>"
      ],
      "text/plain": [
       "        store_id  day_of_week        date  nb_customers_on_day  open  \\\n",
       "425390       366            4  2013-04-18                  517     1   \n",
       "291687       394            6  2015-04-11                  694     1   \n",
       "411278       807            4  2013-08-29                  970     1   \n",
       "664714       802            2  2013-05-28                  473     1   \n",
       "540835       726            4  2013-10-10                 1068     1   \n",
       "...          ...          ...         ...                  ...   ...   \n",
       "359783       409            6  2013-10-26                  483     1   \n",
       "152315        97            1  2014-04-14                  987     1   \n",
       "117952       987            1  2014-07-07                  925     1   \n",
       "435829      1084            4  2014-06-12                  725     1   \n",
       "305711       695            7  2015-05-03                    0     0   \n",
       "\n",
       "        promotion state_holiday  school_holiday  sales  \n",
       "425390          0             0               0   4422  \n",
       "291687          0             0               0   8297  \n",
       "411278          1             0               0   9729  \n",
       "664714          1             0               0   6513  \n",
       "540835          1             0               0  10882  \n",
       "...           ...           ...             ...    ...  \n",
       "359783          0             0               0   4553  \n",
       "152315          1             0               0  12307  \n",
       "117952          0             0               0   6800  \n",
       "435829          0             0               0   5344  \n",
       "305711          0             0               0      0  \n",
       "\n",
       "[640840 rows x 9 columns]"
      ]
     },
     "execution_count": 2,
     "metadata": {},
     "output_type": "execute_result"
    }
   ],
   "source": [
    "data = pd.read_csv('sales.csv', index_col=0)\n",
    "data.columns = data.columns.str.lower()\n",
    "data"
   ]
  },
  {
   "cell_type": "code",
   "execution_count": 3,
   "metadata": {},
   "outputs": [
    {
     "data": {
      "text/plain": [
       "0"
      ]
     },
     "execution_count": 3,
     "metadata": {},
     "output_type": "execute_result"
    }
   ],
   "source": [
    "data.isna().sum().sum()"
   ]
  },
  {
   "cell_type": "markdown",
   "metadata": {},
   "source": [
    "#### sanity checks to make sure the data is correct + EDA"
   ]
  },
  {
   "cell_type": "code",
   "execution_count": 4,
   "metadata": {},
   "outputs": [],
   "source": [
    "drop_list = []"
   ]
  },
  {
   "cell_type": "code",
   "execution_count": 5,
   "metadata": {},
   "outputs": [
    {
     "data": {
      "text/plain": [
       "(640840, 9)"
      ]
     },
     "metadata": {},
     "output_type": "display_data"
    },
    {
     "data": {
      "text/plain": [
       "(640840, 9)"
      ]
     },
     "metadata": {},
     "output_type": "display_data"
    }
   ],
   "source": [
    "display(data.shape)\n",
    "data.drop_duplicates()\n",
    "display(data.shape)"
   ]
  },
  {
   "cell_type": "code",
   "execution_count": 6,
   "metadata": {},
   "outputs": [
    {
     "data": {
      "text/plain": [
       "day_of_week\n",
       "5    92138\n",
       "4    91972\n",
       "2    91686\n",
       "3    91651\n",
       "6    91347\n",
       "7    91075\n",
       "1    90971\n",
       "Name: count, dtype: int64"
      ]
     },
     "metadata": {},
     "output_type": "display_data"
    }
   ],
   "source": [
    "#should be one through 7\n",
    "display(data['day_of_week'].value_counts())"
   ]
  },
  {
   "cell_type": "code",
   "execution_count": 7,
   "metadata": {},
   "outputs": [
    {
     "data": {
      "text/plain": [
       "open\n",
       "1    532016\n",
       "0    108824\n",
       "Name: count, dtype: int64"
      ]
     },
     "metadata": {},
     "output_type": "display_data"
    }
   ],
   "source": [
    "display(data['open'].value_counts())"
   ]
  },
  {
   "cell_type": "code",
   "execution_count": 8,
   "metadata": {},
   "outputs": [
    {
     "data": {
      "text/plain": [
       "open\n",
       "0             0\n",
       "1    3702433241\n",
       "Name: sales, dtype: int64"
      ]
     },
     "execution_count": 8,
     "metadata": {},
     "output_type": "execute_result"
    }
   ],
   "source": [
    "# make sure there's no sales when store is closed\n",
    "data.groupby('open')['sales'].sum()"
   ]
  },
  {
   "cell_type": "code",
   "execution_count": 9,
   "metadata": {},
   "outputs": [
    {
     "name": "stdout",
     "output_type": "stream",
     "text": [
      "promotion\n",
      "0    61.828225\n",
      "1    38.171775\n",
      "Name: proportion, dtype: float64\n"
     ]
    },
    {
     "data": {
      "text/plain": [
       "None"
      ]
     },
     "metadata": {},
     "output_type": "display_data"
    }
   ],
   "source": [
    "display(print(data['promotion'].value_counts(normalize=True) * 100))"
   ]
  },
  {
   "cell_type": "code",
   "execution_count": 10,
   "metadata": {},
   "outputs": [
    {
     "name": "stdout",
     "output_type": "stream",
     "text": [
      "state_holiday\n",
      "0    96.929031\n",
      "a     2.003932\n",
      "b     0.657574\n",
      "c     0.409463\n",
      "Name: proportion, dtype: float64\n"
     ]
    }
   ],
   "source": [
    "print(data['state_holiday'].value_counts(normalize=True) * 100)"
   ]
  },
  {
   "cell_type": "code",
   "execution_count": 11,
   "metadata": {},
   "outputs": [
    {
     "name": "stdout",
     "output_type": "stream",
     "text": [
      "Number of store_iss with multiple state holidays: 1115\n"
     ]
    }
   ],
   "source": [
    "multiple_holidays_count = 0\n",
    "holiday_by_store = data.groupby('store_id')['state_holiday'].unique()\n",
    "# Check if any store_ID has more than one type of state holiday ('a', 'b', 'c')\n",
    "for store_id, holidays in holiday_by_store.items():\n",
    "    if len(set(holidays) - {'0'}) > 1: \n",
    "        multiple_holidays_count += 1\n",
    "\n",
    "print(f\"Number of store_iss with multiple state holidays: {multiple_holidays_count}\")\n",
    "# --> turn into 0 or 1, a,b,c "
   ]
  },
  {
   "cell_type": "code",
   "execution_count": 12,
   "metadata": {},
   "outputs": [],
   "source": [
    "data['is_weekend'] = data['day_of_week'].apply(lambda x: 1 if x == 7 else 0)\n",
    "drop_list.append('day_of_week')"
   ]
  },
  {
   "cell_type": "code",
   "execution_count": 13,
   "metadata": {},
   "outputs": [
    {
     "data": {
      "text/plain": [
       "state_holiday\n",
       "0    621160\n",
       "1     19680\n",
       "Name: count, dtype: int64"
      ]
     },
     "metadata": {},
     "output_type": "display_data"
    }
   ],
   "source": [
    "data['state_holiday'] = data['state_holiday'].map({'0': 0,'a': 1, 'b': 1, 'c': 1})\n",
    "display(data['state_holiday'].value_counts())"
   ]
  },
  {
   "cell_type": "code",
   "execution_count": 14,
   "metadata": {},
   "outputs": [
    {
     "data": {
      "text/html": [
       "<div>\n",
       "<style scoped>\n",
       "    .dataframe tbody tr th:only-of-type {\n",
       "        vertical-align: middle;\n",
       "    }\n",
       "\n",
       "    .dataframe tbody tr th {\n",
       "        vertical-align: top;\n",
       "    }\n",
       "\n",
       "    .dataframe thead th {\n",
       "        text-align: right;\n",
       "    }\n",
       "</style>\n",
       "<table border=\"1\" class=\"dataframe\">\n",
       "  <thead>\n",
       "    <tr style=\"text-align: right;\">\n",
       "      <th></th>\n",
       "      <th>store_id</th>\n",
       "      <th>day_of_week</th>\n",
       "      <th>date</th>\n",
       "      <th>nb_customers_on_day</th>\n",
       "      <th>open</th>\n",
       "      <th>promotion</th>\n",
       "      <th>state_holiday</th>\n",
       "      <th>school_holiday</th>\n",
       "      <th>sales</th>\n",
       "      <th>is_weekend</th>\n",
       "    </tr>\n",
       "  </thead>\n",
       "  <tbody>\n",
       "  </tbody>\n",
       "</table>\n",
       "</div>"
      ],
      "text/plain": [
       "Empty DataFrame\n",
       "Columns: [store_id, day_of_week, date, nb_customers_on_day, open, promotion, state_holiday, school_holiday, sales, is_weekend]\n",
       "Index: []"
      ]
     },
     "execution_count": 14,
     "metadata": {},
     "output_type": "execute_result"
    }
   ],
   "source": [
    "# check for invalid sales\n",
    "data[\n",
    "    (data['nb_customers_on_day'] == 0) &\n",
    "    (data['sales'] != 0) &\n",
    "    ((data['open'] != 0) | (data['promotion'] != 0) | (data['state_holiday'] != 0) | (data['school_holiday'] != 0))\n",
    "]"
   ]
  },
  {
   "cell_type": "code",
   "execution_count": 15,
   "metadata": {},
   "outputs": [
    {
     "data": {
      "text/plain": [
       "school_holiday\n",
       "0    526468\n",
       "1    114372\n",
       "Name: count, dtype: int64"
      ]
     },
     "metadata": {},
     "output_type": "display_data"
    }
   ],
   "source": [
    "display(data['school_holiday'].value_counts())"
   ]
  },
  {
   "cell_type": "code",
   "execution_count": 16,
   "metadata": {},
   "outputs": [
    {
     "data": {
      "text/plain": [
       "day_of_week\n",
       "1    7812.766948\n",
       "2    7004.780054\n",
       "3    6555.350536\n",
       "4    6255.380268\n",
       "5    6726.462697\n",
       "6    5850.032820\n",
       "7     210.680439\n",
       "Name: sales, dtype: float64"
      ]
     },
     "metadata": {},
     "output_type": "display_data"
    },
    {
     "data": {
      "text/plain": [
       "day_of_week\n",
       "1    710735222\n",
       "2    642240264\n",
       "3    600804432\n",
       "4    575319834\n",
       "5    619762820\n",
       "6    534382948\n",
       "7     19187721\n",
       "Name: sales, dtype: int64"
      ]
     },
     "metadata": {},
     "output_type": "display_data"
    }
   ],
   "source": [
    "display(data.groupby('day_of_week')['sales'].mean())\n",
    "display(data.groupby('day_of_week')['sales'].sum())"
   ]
  },
  {
   "cell_type": "markdown",
   "metadata": {},
   "source": [
    "> so the stores are not always closed on sundays, but smaller purchases "
   ]
  },
  {
   "cell_type": "markdown",
   "metadata": {},
   "source": [
    "### feature engineering"
   ]
  },
  {
   "cell_type": "code",
   "execution_count": 17,
   "metadata": {},
   "outputs": [],
   "source": [
    "# retrieve data from date field\n",
    "data['date'] = pd.to_datetime(data['date'])\n",
    "data['year'] = data['date'].dt.year\n",
    "data['month'] = data['date'].dt.month\n",
    "data['day'] = data['date'].dt.day"
   ]
  },
  {
   "cell_type": "code",
   "execution_count": 18,
   "metadata": {},
   "outputs": [
    {
     "data": {
      "text/plain": [
       "year\n",
       "2013    256337\n",
       "2014    235602\n",
       "2015    148901\n",
       "Name: count, dtype: int64"
      ]
     },
     "metadata": {},
     "output_type": "display_data"
    }
   ],
   "source": [
    "display(data['year'].value_counts())"
   ]
  },
  {
   "cell_type": "code",
   "execution_count": 19,
   "metadata": {},
   "outputs": [
    {
     "data": {
      "text/plain": [
       "month\n",
       "5     65529\n",
       "3     65399\n",
       "1     65325\n",
       "6     63370\n",
       "4     63030\n",
       "7     61714\n",
       "2     58989\n",
       "12    40066\n",
       "10    40037\n",
       "8     39910\n",
       "11    38771\n",
       "9     38700\n",
       "Name: count, dtype: int64"
      ]
     },
     "metadata": {},
     "output_type": "display_data"
    }
   ],
   "source": [
    "display(data['month'].value_counts())"
   ]
  },
  {
   "cell_type": "code",
   "execution_count": 20,
   "metadata": {},
   "outputs": [],
   "source": [
    "drop_list.append('date')"
   ]
  },
  {
   "cell_type": "markdown",
   "metadata": {},
   "source": [
    "#### visualize "
   ]
  },
  {
   "cell_type": "code",
   "execution_count": 21,
   "metadata": {},
   "outputs": [
    {
     "data": {
      "image/png": "[encoded data removed]",
      "text/plain": [
       "<Figure size 640x480 with 1 Axes>"
      ]
     },
     "metadata": {},
     "output_type": "display_data"
    }
   ],
   "source": [
    "sns.barplot(data=data, x='year', y='sales', estimator='sum')\n",
    "plt.show()"
   ]
  },
  {
   "cell_type": "code",
   "execution_count": 22,
   "metadata": {},
   "outputs": [
    {
     "data": {
      "image/png": "[encoded data removed]",
      "text/plain": [
       "<Figure size 640x480 with 1 Axes>"
      ]
     },
     "metadata": {},
     "output_type": "display_data"
    }
   ],
   "source": [
    "sns.barplot(data=data, x='month', y='sales', estimator='sum')\n",
    "plt.show()"
   ]
  },
  {
   "cell_type": "code",
   "execution_count": 23,
   "metadata": {},
   "outputs": [],
   "source": [
    "data['part_of_year'] = data['month'].apply(lambda x: 'first' if x <= 7 else 'last')\n",
    "drop_list.append('month')"
   ]
  },
  {
   "cell_type": "code",
   "execution_count": 24,
   "metadata": {},
   "outputs": [
    {
     "data": {
      "image/png": "[encoded data removed]",
      "text/plain": [
       "<Figure size 640x480 with 1 Axes>"
      ]
     },
     "metadata": {},
     "output_type": "display_data"
    }
   ],
   "source": [
    "sns.barplot(data=data, x='day', y='sales', estimator='sum')\n",
    "plt.show()"
   ]
  },
  {
   "cell_type": "code",
   "execution_count": 25,
   "metadata": {},
   "outputs": [
    {
     "data": {
      "text/html": [
       "<div>\n",
       "<style scoped>\n",
       "    .dataframe tbody tr th:only-of-type {\n",
       "        vertical-align: middle;\n",
       "    }\n",
       "\n",
       "    .dataframe tbody tr th {\n",
       "        vertical-align: top;\n",
       "    }\n",
       "\n",
       "    .dataframe thead th {\n",
       "        text-align: right;\n",
       "    }\n",
       "</style>\n",
       "<table border=\"1\" class=\"dataframe\">\n",
       "  <thead>\n",
       "    <tr style=\"text-align: right;\">\n",
       "      <th></th>\n",
       "      <th>store_id</th>\n",
       "      <th>day_of_week</th>\n",
       "      <th>date</th>\n",
       "      <th>nb_customers_on_day</th>\n",
       "      <th>open</th>\n",
       "      <th>promotion</th>\n",
       "      <th>state_holiday</th>\n",
       "      <th>school_holiday</th>\n",
       "      <th>sales</th>\n",
       "      <th>is_weekend</th>\n",
       "      <th>year</th>\n",
       "      <th>month</th>\n",
       "      <th>day</th>\n",
       "      <th>part_of_year</th>\n",
       "      <th>payday</th>\n",
       "    </tr>\n",
       "  </thead>\n",
       "  <tbody>\n",
       "    <tr>\n",
       "      <th>425390</th>\n",
       "      <td>366</td>\n",
       "      <td>4</td>\n",
       "      <td>2013-04-18</td>\n",
       "      <td>517</td>\n",
       "      <td>1</td>\n",
       "      <td>0</td>\n",
       "      <td>0</td>\n",
       "      <td>0</td>\n",
       "      <td>4422</td>\n",
       "      <td>0</td>\n",
       "      <td>2013</td>\n",
       "      <td>4</td>\n",
       "      <td>18</td>\n",
       "      <td>first</td>\n",
       "      <td>1</td>\n",
       "    </tr>\n",
       "    <tr>\n",
       "      <th>291687</th>\n",
       "      <td>394</td>\n",
       "      <td>6</td>\n",
       "      <td>2015-04-11</td>\n",
       "      <td>694</td>\n",
       "      <td>1</td>\n",
       "      <td>0</td>\n",
       "      <td>0</td>\n",
       "      <td>0</td>\n",
       "      <td>8297</td>\n",
       "      <td>0</td>\n",
       "      <td>2015</td>\n",
       "      <td>4</td>\n",
       "      <td>11</td>\n",
       "      <td>first</td>\n",
       "      <td>0</td>\n",
       "    </tr>\n",
       "    <tr>\n",
       "      <th>411278</th>\n",
       "      <td>807</td>\n",
       "      <td>4</td>\n",
       "      <td>2013-08-29</td>\n",
       "      <td>970</td>\n",
       "      <td>1</td>\n",
       "      <td>1</td>\n",
       "      <td>0</td>\n",
       "      <td>0</td>\n",
       "      <td>9729</td>\n",
       "      <td>0</td>\n",
       "      <td>2013</td>\n",
       "      <td>8</td>\n",
       "      <td>29</td>\n",
       "      <td>last</td>\n",
       "      <td>0</td>\n",
       "    </tr>\n",
       "    <tr>\n",
       "      <th>664714</th>\n",
       "      <td>802</td>\n",
       "      <td>2</td>\n",
       "      <td>2013-05-28</td>\n",
       "      <td>473</td>\n",
       "      <td>1</td>\n",
       "      <td>1</td>\n",
       "      <td>0</td>\n",
       "      <td>0</td>\n",
       "      <td>6513</td>\n",
       "      <td>0</td>\n",
       "      <td>2013</td>\n",
       "      <td>5</td>\n",
       "      <td>28</td>\n",
       "      <td>first</td>\n",
       "      <td>0</td>\n",
       "    </tr>\n",
       "    <tr>\n",
       "      <th>540835</th>\n",
       "      <td>726</td>\n",
       "      <td>4</td>\n",
       "      <td>2013-10-10</td>\n",
       "      <td>1068</td>\n",
       "      <td>1</td>\n",
       "      <td>1</td>\n",
       "      <td>0</td>\n",
       "      <td>0</td>\n",
       "      <td>10882</td>\n",
       "      <td>0</td>\n",
       "      <td>2013</td>\n",
       "      <td>10</td>\n",
       "      <td>10</td>\n",
       "      <td>last</td>\n",
       "      <td>0</td>\n",
       "    </tr>\n",
       "    <tr>\n",
       "      <th>...</th>\n",
       "      <td>...</td>\n",
       "      <td>...</td>\n",
       "      <td>...</td>\n",
       "      <td>...</td>\n",
       "      <td>...</td>\n",
       "      <td>...</td>\n",
       "      <td>...</td>\n",
       "      <td>...</td>\n",
       "      <td>...</td>\n",
       "      <td>...</td>\n",
       "      <td>...</td>\n",
       "      <td>...</td>\n",
       "      <td>...</td>\n",
       "      <td>...</td>\n",
       "      <td>...</td>\n",
       "    </tr>\n",
       "    <tr>\n",
       "      <th>359783</th>\n",
       "      <td>409</td>\n",
       "      <td>6</td>\n",
       "      <td>2013-10-26</td>\n",
       "      <td>483</td>\n",
       "      <td>1</td>\n",
       "      <td>0</td>\n",
       "      <td>0</td>\n",
       "      <td>0</td>\n",
       "      <td>4553</td>\n",
       "      <td>0</td>\n",
       "      <td>2013</td>\n",
       "      <td>10</td>\n",
       "      <td>26</td>\n",
       "      <td>last</td>\n",
       "      <td>0</td>\n",
       "    </tr>\n",
       "    <tr>\n",
       "      <th>152315</th>\n",
       "      <td>97</td>\n",
       "      <td>1</td>\n",
       "      <td>2014-04-14</td>\n",
       "      <td>987</td>\n",
       "      <td>1</td>\n",
       "      <td>1</td>\n",
       "      <td>0</td>\n",
       "      <td>0</td>\n",
       "      <td>12307</td>\n",
       "      <td>0</td>\n",
       "      <td>2014</td>\n",
       "      <td>4</td>\n",
       "      <td>14</td>\n",
       "      <td>first</td>\n",
       "      <td>0</td>\n",
       "    </tr>\n",
       "    <tr>\n",
       "      <th>117952</th>\n",
       "      <td>987</td>\n",
       "      <td>1</td>\n",
       "      <td>2014-07-07</td>\n",
       "      <td>925</td>\n",
       "      <td>1</td>\n",
       "      <td>0</td>\n",
       "      <td>0</td>\n",
       "      <td>0</td>\n",
       "      <td>6800</td>\n",
       "      <td>0</td>\n",
       "      <td>2014</td>\n",
       "      <td>7</td>\n",
       "      <td>7</td>\n",
       "      <td>first</td>\n",
       "      <td>1</td>\n",
       "    </tr>\n",
       "    <tr>\n",
       "      <th>435829</th>\n",
       "      <td>1084</td>\n",
       "      <td>4</td>\n",
       "      <td>2014-06-12</td>\n",
       "      <td>725</td>\n",
       "      <td>1</td>\n",
       "      <td>0</td>\n",
       "      <td>0</td>\n",
       "      <td>0</td>\n",
       "      <td>5344</td>\n",
       "      <td>0</td>\n",
       "      <td>2014</td>\n",
       "      <td>6</td>\n",
       "      <td>12</td>\n",
       "      <td>first</td>\n",
       "      <td>0</td>\n",
       "    </tr>\n",
       "    <tr>\n",
       "      <th>305711</th>\n",
       "      <td>695</td>\n",
       "      <td>7</td>\n",
       "      <td>2015-05-03</td>\n",
       "      <td>0</td>\n",
       "      <td>0</td>\n",
       "      <td>0</td>\n",
       "      <td>0</td>\n",
       "      <td>0</td>\n",
       "      <td>0</td>\n",
       "      <td>1</td>\n",
       "      <td>2015</td>\n",
       "      <td>5</td>\n",
       "      <td>3</td>\n",
       "      <td>first</td>\n",
       "      <td>1</td>\n",
       "    </tr>\n",
       "  </tbody>\n",
       "</table>\n",
       "<p>640840 rows × 15 columns</p>\n",
       "</div>"
      ],
      "text/plain": [
       "        store_id  day_of_week       date  nb_customers_on_day  open  \\\n",
       "425390       366            4 2013-04-18                  517     1   \n",
       "291687       394            6 2015-04-11                  694     1   \n",
       "411278       807            4 2013-08-29                  970     1   \n",
       "664714       802            2 2013-05-28                  473     1   \n",
       "540835       726            4 2013-10-10                 1068     1   \n",
       "...          ...          ...        ...                  ...   ...   \n",
       "359783       409            6 2013-10-26                  483     1   \n",
       "152315        97            1 2014-04-14                  987     1   \n",
       "117952       987            1 2014-07-07                  925     1   \n",
       "435829      1084            4 2014-06-12                  725     1   \n",
       "305711       695            7 2015-05-03                    0     0   \n",
       "\n",
       "        promotion  state_holiday  school_holiday  sales  is_weekend  year  \\\n",
       "425390          0              0               0   4422           0  2013   \n",
       "291687          0              0               0   8297           0  2015   \n",
       "411278          1              0               0   9729           0  2013   \n",
       "664714          1              0               0   6513           0  2013   \n",
       "540835          1              0               0  10882           0  2013   \n",
       "...           ...            ...             ...    ...         ...   ...   \n",
       "359783          0              0               0   4553           0  2013   \n",
       "152315          1              0               0  12307           0  2014   \n",
       "117952          0              0               0   6800           0  2014   \n",
       "435829          0              0               0   5344           0  2014   \n",
       "305711          0              0               0      0           1  2015   \n",
       "\n",
       "        month  day part_of_year  payday  \n",
       "425390      4   18        first       1  \n",
       "291687      4   11        first       0  \n",
       "411278      8   29         last       0  \n",
       "664714      5   28        first       0  \n",
       "540835     10   10         last       0  \n",
       "...       ...  ...          ...     ...  \n",
       "359783     10   26         last       0  \n",
       "152315      4   14        first       0  \n",
       "117952      7    7        first       1  \n",
       "435829      6   12        first       0  \n",
       "305711      5    3        first       1  \n",
       "\n",
       "[640840 rows x 15 columns]"
      ]
     },
     "execution_count": 25,
     "metadata": {},
     "output_type": "execute_result"
    }
   ],
   "source": [
    "# looks like payday is twice a month\n",
    "range1 = (2, 9)\n",
    "range2 = (15, 24)  \n",
    "data['payday'] = np.where(\n",
    "    (data['day'].between(*range1)) | (data['day'].between(*range2)), 1, 0)\n",
    "drop_list.append('day')\n",
    "data"
   ]
  },
  {
   "cell_type": "code",
   "execution_count": 26,
   "metadata": {},
   "outputs": [
    {
     "data": {
      "image/png": "[encoded data removed]",
      "text/plain": [
       "<Figure size 640x480 with 1 Axes>"
      ]
     },
     "metadata": {},
     "output_type": "display_data"
    }
   ],
   "source": [
    "sns.scatterplot(data=data, x='nb_customers_on_day', y='sales')\n",
    "plt.show()"
   ]
  },
  {
   "cell_type": "code",
   "execution_count": 27,
   "metadata": {},
   "outputs": [
    {
     "data": {
      "image/png": "[encoded data removed]",
      "text/plain": [
       "<Figure size 640x480 with 1 Axes>"
      ]
     },
     "metadata": {},
     "output_type": "display_data"
    }
   ],
   "source": [
    "# check outliers\n",
    "# plt.figure(figsize=(5, 20))\n",
    "sns.boxplot(data=data, y='nb_customers_on_day')\n",
    "plt.show()"
   ]
  },
  {
   "cell_type": "code",
   "execution_count": 28,
   "metadata": {},
   "outputs": [],
   "source": [
    "# remove outliers\n",
    "data = data[data['nb_customers_on_day'] <= 3000]"
   ]
  },
  {
   "cell_type": "markdown",
   "metadata": {},
   "source": [
    "#### extended feature selection"
   ]
  },
  {
   "cell_type": "code",
   "execution_count": 29,
   "metadata": {},
   "outputs": [
    {
     "data": {
      "text/plain": [
       "store_id                        int64\n",
       "day_of_week                     int64\n",
       "date                   datetime64[ns]\n",
       "nb_customers_on_day             int64\n",
       "open                            int64\n",
       "promotion                       int64\n",
       "state_holiday                   int64\n",
       "school_holiday                  int64\n",
       "sales                           int64\n",
       "is_weekend                      int64\n",
       "year                            int32\n",
       "month                           int32\n",
       "day                             int32\n",
       "part_of_year                   object\n",
       "payday                          int64\n",
       "dtype: object"
      ]
     },
     "execution_count": 29,
     "metadata": {},
     "output_type": "execute_result"
    }
   ],
   "source": [
    "data.dtypes"
   ]
  },
  {
   "cell_type": "code",
   "execution_count": 30,
   "metadata": {},
   "outputs": [
    {
     "data": {
      "text/html": [
       "<div>\n",
       "<style scoped>\n",
       "    .dataframe tbody tr th:only-of-type {\n",
       "        vertical-align: middle;\n",
       "    }\n",
       "\n",
       "    .dataframe tbody tr th {\n",
       "        vertical-align: top;\n",
       "    }\n",
       "\n",
       "    .dataframe thead th {\n",
       "        text-align: right;\n",
       "    }\n",
       "</style>\n",
       "<table border=\"1\" class=\"dataframe\">\n",
       "  <thead>\n",
       "    <tr style=\"text-align: right;\">\n",
       "      <th></th>\n",
       "      <th>count</th>\n",
       "      <th>mean</th>\n",
       "      <th>min</th>\n",
       "      <th>25%</th>\n",
       "      <th>50%</th>\n",
       "      <th>75%</th>\n",
       "      <th>max</th>\n",
       "      <th>std</th>\n",
       "    </tr>\n",
       "  </thead>\n",
       "  <tbody>\n",
       "    <tr>\n",
       "      <th>store_id</th>\n",
       "      <td>638239.0</td>\n",
       "      <td>557.781912</td>\n",
       "      <td>1.0</td>\n",
       "      <td>280.0</td>\n",
       "      <td>557.0</td>\n",
       "      <td>837.0</td>\n",
       "      <td>1115.0</td>\n",
       "      <td>322.028264</td>\n",
       "    </tr>\n",
       "    <tr>\n",
       "      <th>day_of_week</th>\n",
       "      <td>638239.0</td>\n",
       "      <td>4.001346</td>\n",
       "      <td>1.0</td>\n",
       "      <td>2.0</td>\n",
       "      <td>4.0</td>\n",
       "      <td>6.0</td>\n",
       "      <td>7.0</td>\n",
       "      <td>1.996586</td>\n",
       "    </tr>\n",
       "    <tr>\n",
       "      <th>date</th>\n",
       "      <td>638239</td>\n",
       "      <td>2014-04-11 00:16:14.817270528</td>\n",
       "      <td>2013-01-01 00:00:00</td>\n",
       "      <td>2013-08-16 00:00:00</td>\n",
       "      <td>2014-04-02 00:00:00</td>\n",
       "      <td>2014-12-12 00:00:00</td>\n",
       "      <td>2015-07-31 00:00:00</td>\n",
       "      <td>NaN</td>\n",
       "    </tr>\n",
       "    <tr>\n",
       "      <th>nb_customers_on_day</th>\n",
       "      <td>638239.0</td>\n",
       "      <td>622.005045</td>\n",
       "      <td>0.0</td>\n",
       "      <td>404.0</td>\n",
       "      <td>609.0</td>\n",
       "      <td>834.0</td>\n",
       "      <td>3000.0</td>\n",
       "      <td>428.634711</td>\n",
       "    </tr>\n",
       "    <tr>\n",
       "      <th>open</th>\n",
       "      <td>638239.0</td>\n",
       "      <td>0.829493</td>\n",
       "      <td>0.0</td>\n",
       "      <td>1.0</td>\n",
       "      <td>1.0</td>\n",
       "      <td>1.0</td>\n",
       "      <td>1.0</td>\n",
       "      <td>0.376078</td>\n",
       "    </tr>\n",
       "    <tr>\n",
       "      <th>promotion</th>\n",
       "      <td>638239.0</td>\n",
       "      <td>0.381279</td>\n",
       "      <td>0.0</td>\n",
       "      <td>0.0</td>\n",
       "      <td>0.0</td>\n",
       "      <td>1.0</td>\n",
       "      <td>1.0</td>\n",
       "      <td>0.485701</td>\n",
       "    </tr>\n",
       "    <tr>\n",
       "      <th>state_holiday</th>\n",
       "      <td>638239.0</td>\n",
       "      <td>0.030744</td>\n",
       "      <td>0.0</td>\n",
       "      <td>0.0</td>\n",
       "      <td>0.0</td>\n",
       "      <td>0.0</td>\n",
       "      <td>1.0</td>\n",
       "      <td>0.172623</td>\n",
       "    </tr>\n",
       "    <tr>\n",
       "      <th>school_holiday</th>\n",
       "      <td>638239.0</td>\n",
       "      <td>0.178389</td>\n",
       "      <td>0.0</td>\n",
       "      <td>0.0</td>\n",
       "      <td>0.0</td>\n",
       "      <td>0.0</td>\n",
       "      <td>1.0</td>\n",
       "      <td>0.38284</td>\n",
       "    </tr>\n",
       "    <tr>\n",
       "      <th>sales</th>\n",
       "      <td>638239.0</td>\n",
       "      <td>5722.819608</td>\n",
       "      <td>0.0</td>\n",
       "      <td>3720.0</td>\n",
       "      <td>5732.0</td>\n",
       "      <td>7828.0</td>\n",
       "      <td>41551.0</td>\n",
       "      <td>3747.830329</td>\n",
       "    </tr>\n",
       "    <tr>\n",
       "      <th>is_weekend</th>\n",
       "      <td>638239.0</td>\n",
       "      <td>0.142318</td>\n",
       "      <td>0.0</td>\n",
       "      <td>0.0</td>\n",
       "      <td>0.0</td>\n",
       "      <td>0.0</td>\n",
       "      <td>1.0</td>\n",
       "      <td>0.349376</td>\n",
       "    </tr>\n",
       "    <tr>\n",
       "      <th>year</th>\n",
       "      <td>638239.0</td>\n",
       "      <td>2013.832356</td>\n",
       "      <td>2013.0</td>\n",
       "      <td>2013.0</td>\n",
       "      <td>2014.0</td>\n",
       "      <td>2014.0</td>\n",
       "      <td>2015.0</td>\n",
       "      <td>0.777442</td>\n",
       "    </tr>\n",
       "    <tr>\n",
       "      <th>month</th>\n",
       "      <td>638239.0</td>\n",
       "      <td>5.843963</td>\n",
       "      <td>1.0</td>\n",
       "      <td>3.0</td>\n",
       "      <td>6.0</td>\n",
       "      <td>8.0</td>\n",
       "      <td>12.0</td>\n",
       "      <td>3.32608</td>\n",
       "    </tr>\n",
       "    <tr>\n",
       "      <th>day</th>\n",
       "      <td>638239.0</td>\n",
       "      <td>15.71289</td>\n",
       "      <td>1.0</td>\n",
       "      <td>8.0</td>\n",
       "      <td>16.0</td>\n",
       "      <td>23.0</td>\n",
       "      <td>31.0</td>\n",
       "      <td>8.789993</td>\n",
       "    </tr>\n",
       "    <tr>\n",
       "      <th>payday</th>\n",
       "      <td>638239.0</td>\n",
       "      <td>0.592496</td>\n",
       "      <td>0.0</td>\n",
       "      <td>0.0</td>\n",
       "      <td>1.0</td>\n",
       "      <td>1.0</td>\n",
       "      <td>1.0</td>\n",
       "      <td>0.49137</td>\n",
       "    </tr>\n",
       "  </tbody>\n",
       "</table>\n",
       "</div>"
      ],
      "text/plain": [
       "                        count                           mean  \\\n",
       "store_id             638239.0                     557.781912   \n",
       "day_of_week          638239.0                       4.001346   \n",
       "date                   638239  2014-04-11 00:16:14.817270528   \n",
       "nb_customers_on_day  638239.0                     622.005045   \n",
       "open                 638239.0                       0.829493   \n",
       "promotion            638239.0                       0.381279   \n",
       "state_holiday        638239.0                       0.030744   \n",
       "school_holiday       638239.0                       0.178389   \n",
       "sales                638239.0                    5722.819608   \n",
       "is_weekend           638239.0                       0.142318   \n",
       "year                 638239.0                    2013.832356   \n",
       "month                638239.0                       5.843963   \n",
       "day                  638239.0                       15.71289   \n",
       "payday               638239.0                       0.592496   \n",
       "\n",
       "                                     min                  25%  \\\n",
       "store_id                             1.0                280.0   \n",
       "day_of_week                          1.0                  2.0   \n",
       "date                 2013-01-01 00:00:00  2013-08-16 00:00:00   \n",
       "nb_customers_on_day                  0.0                404.0   \n",
       "open                                 0.0                  1.0   \n",
       "promotion                            0.0                  0.0   \n",
       "state_holiday                        0.0                  0.0   \n",
       "school_holiday                       0.0                  0.0   \n",
       "sales                                0.0               3720.0   \n",
       "is_weekend                           0.0                  0.0   \n",
       "year                              2013.0               2013.0   \n",
       "month                                1.0                  3.0   \n",
       "day                                  1.0                  8.0   \n",
       "payday                               0.0                  0.0   \n",
       "\n",
       "                                     50%                  75%  \\\n",
       "store_id                           557.0                837.0   \n",
       "day_of_week                          4.0                  6.0   \n",
       "date                 2014-04-02 00:00:00  2014-12-12 00:00:00   \n",
       "nb_customers_on_day                609.0                834.0   \n",
       "open                                 1.0                  1.0   \n",
       "promotion                            0.0                  1.0   \n",
       "state_holiday                        0.0                  0.0   \n",
       "school_holiday                       0.0                  0.0   \n",
       "sales                             5732.0               7828.0   \n",
       "is_weekend                           0.0                  0.0   \n",
       "year                              2014.0               2014.0   \n",
       "month                                6.0                  8.0   \n",
       "day                                 16.0                 23.0   \n",
       "payday                               1.0                  1.0   \n",
       "\n",
       "                                     max          std  \n",
       "store_id                          1115.0   322.028264  \n",
       "day_of_week                          7.0     1.996586  \n",
       "date                 2015-07-31 00:00:00          NaN  \n",
       "nb_customers_on_day               3000.0   428.634711  \n",
       "open                                 1.0     0.376078  \n",
       "promotion                            1.0     0.485701  \n",
       "state_holiday                        1.0     0.172623  \n",
       "school_holiday                       1.0      0.38284  \n",
       "sales                            41551.0  3747.830329  \n",
       "is_weekend                           1.0     0.349376  \n",
       "year                              2015.0     0.777442  \n",
       "month                               12.0      3.32608  \n",
       "day                                 31.0     8.789993  \n",
       "payday                               1.0      0.49137  "
      ]
     },
     "execution_count": 30,
     "metadata": {},
     "output_type": "execute_result"
    }
   ],
   "source": [
    "data.describe().T"
   ]
  },
  {
   "cell_type": "code",
   "execution_count": 31,
   "metadata": {},
   "outputs": [
    {
     "name": "stdout",
     "output_type": "stream",
     "text": [
      "Correlation coefficients with sales:\n",
      "open              0.692301\n",
      "promotion         0.462044\n",
      "state_holiday    -0.262605\n",
      "school_holiday    0.086329\n",
      "sales             1.000000\n",
      "store_id          0.000760\n",
      "is_weekend       -0.605209\n",
      "payday            0.050075\n",
      "Name: sales, dtype: float64\n"
     ]
    }
   ],
   "source": [
    "selected_columns = ['open', 'promotion', 'state_holiday', 'school_holiday', 'sales', 'store_id', 'is_weekend', 'payday']\n",
    "selected_data = data[selected_columns]\n",
    "\n",
    "correlation_matrix = selected_data.corr()\n",
    "sales_correlation = correlation_matrix['sales']\n",
    "\n",
    "print(\"Correlation coefficients with sales:\")\n",
    "print(sales_correlation)\n"
   ]
  },
  {
   "cell_type": "code",
   "execution_count": 32,
   "metadata": {},
   "outputs": [
    {
     "name": "stderr",
     "output_type": "stream",
     "text": [
      "/var/folders/pr/f4jl4tln3yn9fd_1yjrwwkp40000gn/T/ipykernel_30101/2759342779.py:1: SettingWithCopyWarning: \n",
      "A value is trying to be set on a copy of a slice from a DataFrame.\n",
      "Try using .loc[row_indexer,col_indexer] = value instead\n",
      "\n",
      "See the caveats in the documentation: https://pandas.pydata.org/pandas-docs/stable/user_guide/indexing.html#returning-a-view-versus-a-copy\n",
      "  data['is_weekend'] = data['day_of_week'].apply(lambda x: 1 if x == 7 else 0)\n"
     ]
    }
   ],
   "source": [
    "data['is_weekend'] = data['day_of_week'].apply(lambda x: 1 if x == 7 else 0)\n",
    "drop_list.append('day_of_week')\n",
    "drop_list.append('year')"
   ]
  },
  {
   "cell_type": "code",
   "execution_count": 33,
   "metadata": {},
   "outputs": [
    {
     "name": "stderr",
     "output_type": "stream",
     "text": [
      "/var/folders/pr/f4jl4tln3yn9fd_1yjrwwkp40000gn/T/ipykernel_30101/3622297098.py:2: SettingWithCopyWarning: \n",
      "A value is trying to be set on a copy of a slice from a DataFrame\n",
      "\n",
      "See the caveats in the documentation: https://pandas.pydata.org/pandas-docs/stable/user_guide/indexing.html#returning-a-view-versus-a-copy\n",
      "  data.drop(columns=drop_list, inplace=True)\n"
     ]
    }
   ],
   "source": [
    "drop_list.append('year')\n",
    "data.drop(columns=drop_list, inplace=True)"
   ]
  },
  {
   "cell_type": "markdown",
   "metadata": {},
   "source": [
    "#### Hypothesis Testing"
   ]
  },
  {
   "cell_type": "markdown",
   "metadata": {},
   "source": [
    "> days of the week <> sales \n",
    "> H0 for ANOVA is always that the means of the various groups are the same\n",
    "> H1 is that they are not the same"
   ]
  },
  {
   "cell_type": "code",
   "execution_count": 34,
   "metadata": {},
   "outputs": [
    {
     "name": "stdout",
     "output_type": "stream",
     "text": [
      "2\n",
      "47273.81020027174\n",
      "0.0\n"
     ]
    }
   ],
   "source": [
    "open_groups = []\n",
    "for status in [0,1]:\n",
    "    day_sales = data[data['state_holiday'] == status]['sales'] \n",
    "    open_groups.append(day_sales)\n",
    "    \n",
    "print(len(open_groups))\n",
    "f_stat, p_val = st.f_oneway(*open_groups)\n",
    "print(f_stat)\n",
    "print(p_val)"
   ]
  },
  {
   "cell_type": "code",
   "execution_count": 35,
   "metadata": {},
   "outputs": [
    {
     "name": "stdout",
     "output_type": "stream",
     "text": [
      "2\n",
      "4792.2601068574695\n",
      "0.0\n"
     ]
    }
   ],
   "source": [
    "open_groups = []\n",
    "for status in [0,1]:\n",
    "    day_sales = data[data['school_holiday'] == status]['sales'] \n",
    "    open_groups.append(day_sales)\n",
    "    \n",
    "print(len(open_groups))\n",
    "f_stat, p_val = st.f_oneway(*open_groups)\n",
    "print(f_stat)\n",
    "print(p_val)"
   ]
  },
  {
   "cell_type": "markdown",
   "metadata": {},
   "source": [
    "#### setup model"
   ]
  },
  {
   "cell_type": "code",
   "execution_count": 36,
   "metadata": {},
   "outputs": [],
   "source": [
    "X = data.drop(columns=['sales'])\n",
    "y = data['sales']"
   ]
  },
  {
   "cell_type": "code",
   "execution_count": 37,
   "metadata": {},
   "outputs": [],
   "source": [
    "X_train, X_test, y_train, y_test = train_test_split(X,y, test_size=0.2, random_state=42)"
   ]
  },
  {
   "cell_type": "code",
   "execution_count": 38,
   "metadata": {},
   "outputs": [
    {
     "data": {
      "text/html": [
       "<div>\n",
       "<style scoped>\n",
       "    .dataframe tbody tr th:only-of-type {\n",
       "        vertical-align: middle;\n",
       "    }\n",
       "\n",
       "    .dataframe tbody tr th {\n",
       "        vertical-align: top;\n",
       "    }\n",
       "\n",
       "    .dataframe thead th {\n",
       "        text-align: right;\n",
       "    }\n",
       "</style>\n",
       "<table border=\"1\" class=\"dataframe\">\n",
       "  <thead>\n",
       "    <tr style=\"text-align: right;\">\n",
       "      <th></th>\n",
       "      <th>store_id</th>\n",
       "      <th>nb_customers_on_day</th>\n",
       "      <th>open</th>\n",
       "      <th>promotion</th>\n",
       "      <th>state_holiday</th>\n",
       "      <th>school_holiday</th>\n",
       "      <th>is_weekend</th>\n",
       "      <th>part_of_year</th>\n",
       "      <th>payday</th>\n",
       "    </tr>\n",
       "  </thead>\n",
       "  <tbody>\n",
       "    <tr>\n",
       "      <th>710086</th>\n",
       "      <td>451</td>\n",
       "      <td>483</td>\n",
       "      <td>1</td>\n",
       "      <td>1</td>\n",
       "      <td>0</td>\n",
       "      <td>0</td>\n",
       "      <td>0</td>\n",
       "      <td>first</td>\n",
       "      <td>1</td>\n",
       "    </tr>\n",
       "    <tr>\n",
       "      <th>362964</th>\n",
       "      <td>1088</td>\n",
       "      <td>658</td>\n",
       "      <td>1</td>\n",
       "      <td>1</td>\n",
       "      <td>0</td>\n",
       "      <td>1</td>\n",
       "      <td>0</td>\n",
       "      <td>first</td>\n",
       "      <td>1</td>\n",
       "    </tr>\n",
       "    <tr>\n",
       "      <th>511909</th>\n",
       "      <td>384</td>\n",
       "      <td>869</td>\n",
       "      <td>1</td>\n",
       "      <td>0</td>\n",
       "      <td>0</td>\n",
       "      <td>1</td>\n",
       "      <td>0</td>\n",
       "      <td>first</td>\n",
       "      <td>0</td>\n",
       "    </tr>\n",
       "    <tr>\n",
       "      <th>459687</th>\n",
       "      <td>435</td>\n",
       "      <td>0</td>\n",
       "      <td>0</td>\n",
       "      <td>0</td>\n",
       "      <td>0</td>\n",
       "      <td>0</td>\n",
       "      <td>1</td>\n",
       "      <td>first</td>\n",
       "      <td>0</td>\n",
       "    </tr>\n",
       "    <tr>\n",
       "      <th>638090</th>\n",
       "      <td>401</td>\n",
       "      <td>0</td>\n",
       "      <td>0</td>\n",
       "      <td>0</td>\n",
       "      <td>0</td>\n",
       "      <td>0</td>\n",
       "      <td>1</td>\n",
       "      <td>last</td>\n",
       "      <td>0</td>\n",
       "    </tr>\n",
       "    <tr>\n",
       "      <th>...</th>\n",
       "      <td>...</td>\n",
       "      <td>...</td>\n",
       "      <td>...</td>\n",
       "      <td>...</td>\n",
       "      <td>...</td>\n",
       "      <td>...</td>\n",
       "      <td>...</td>\n",
       "      <td>...</td>\n",
       "      <td>...</td>\n",
       "    </tr>\n",
       "    <tr>\n",
       "      <th>319548</th>\n",
       "      <td>1034</td>\n",
       "      <td>251</td>\n",
       "      <td>1</td>\n",
       "      <td>0</td>\n",
       "      <td>0</td>\n",
       "      <td>0</td>\n",
       "      <td>0</td>\n",
       "      <td>first</td>\n",
       "      <td>0</td>\n",
       "    </tr>\n",
       "    <tr>\n",
       "      <th>570738</th>\n",
       "      <td>8</td>\n",
       "      <td>410</td>\n",
       "      <td>1</td>\n",
       "      <td>0</td>\n",
       "      <td>0</td>\n",
       "      <td>0</td>\n",
       "      <td>0</td>\n",
       "      <td>first</td>\n",
       "      <td>0</td>\n",
       "    </tr>\n",
       "    <tr>\n",
       "      <th>16136</th>\n",
       "      <td>197</td>\n",
       "      <td>947</td>\n",
       "      <td>1</td>\n",
       "      <td>1</td>\n",
       "      <td>0</td>\n",
       "      <td>0</td>\n",
       "      <td>0</td>\n",
       "      <td>last</td>\n",
       "      <td>0</td>\n",
       "    </tr>\n",
       "    <tr>\n",
       "      <th>431528</th>\n",
       "      <td>196</td>\n",
       "      <td>0</td>\n",
       "      <td>0</td>\n",
       "      <td>0</td>\n",
       "      <td>0</td>\n",
       "      <td>0</td>\n",
       "      <td>1</td>\n",
       "      <td>first</td>\n",
       "      <td>0</td>\n",
       "    </tr>\n",
       "    <tr>\n",
       "      <th>496563</th>\n",
       "      <td>688</td>\n",
       "      <td>320</td>\n",
       "      <td>1</td>\n",
       "      <td>0</td>\n",
       "      <td>0</td>\n",
       "      <td>0</td>\n",
       "      <td>0</td>\n",
       "      <td>first</td>\n",
       "      <td>0</td>\n",
       "    </tr>\n",
       "  </tbody>\n",
       "</table>\n",
       "<p>510591 rows × 9 columns</p>\n",
       "</div>"
      ],
      "text/plain": [
       "        store_id  nb_customers_on_day  open  promotion  state_holiday  \\\n",
       "710086       451                  483     1          1              0   \n",
       "362964      1088                  658     1          1              0   \n",
       "511909       384                  869     1          0              0   \n",
       "459687       435                    0     0          0              0   \n",
       "638090       401                    0     0          0              0   \n",
       "...          ...                  ...   ...        ...            ...   \n",
       "319548      1034                  251     1          0              0   \n",
       "570738         8                  410     1          0              0   \n",
       "16136        197                  947     1          1              0   \n",
       "431528       196                    0     0          0              0   \n",
       "496563       688                  320     1          0              0   \n",
       "\n",
       "        school_holiday  is_weekend part_of_year  payday  \n",
       "710086               0           0        first       1  \n",
       "362964               1           0        first       1  \n",
       "511909               1           0        first       0  \n",
       "459687               0           1        first       0  \n",
       "638090               0           1         last       0  \n",
       "...                ...         ...          ...     ...  \n",
       "319548               0           0        first       0  \n",
       "570738               0           0        first       0  \n",
       "16136                0           0         last       0  \n",
       "431528               0           1        first       0  \n",
       "496563               0           0        first       0  \n",
       "\n",
       "[510591 rows x 9 columns]"
      ]
     },
     "execution_count": 38,
     "metadata": {},
     "output_type": "execute_result"
    }
   ],
   "source": [
    "# check data\n",
    "X_train"
   ]
  },
  {
   "cell_type": "code",
   "execution_count": 39,
   "metadata": {},
   "outputs": [],
   "source": [
    "categorical_to_encode = ['part_of_year', 'open', 'promotion','state_holiday', 'school_holiday', 'is_weekend', 'payday'] \n",
    "numerical_to_scale = ['nb_customers_on_day']"
   ]
  },
  {
   "cell_type": "code",
   "execution_count": 40,
   "metadata": {},
   "outputs": [],
   "source": [
    "## scale numericals\n",
    "scaler = MinMaxScaler()\n",
    "X_train[numerical_to_scale] = scaler.fit_transform(X_train[numerical_to_scale])\n",
    "X_test[numerical_to_scale] = scaler.transform(X_test[numerical_to_scale])"
   ]
  },
  {
   "cell_type": "code",
   "execution_count": 41,
   "metadata": {},
   "outputs": [],
   "source": [
    "## ordinal encode categorical\n",
    "encoder = OrdinalEncoder()\n",
    "X_train[categorical_to_encode] = encoder.fit_transform(X_train[categorical_to_encode])\n",
    "X_test[categorical_to_encode] = encoder.transform(X_test[categorical_to_encode])"
   ]
  },
  {
   "cell_type": "code",
   "execution_count": 42,
   "metadata": {},
   "outputs": [
    {
     "data": {
      "text/html": [
       "<div>\n",
       "<style scoped>\n",
       "    .dataframe tbody tr th:only-of-type {\n",
       "        vertical-align: middle;\n",
       "    }\n",
       "\n",
       "    .dataframe tbody tr th {\n",
       "        vertical-align: top;\n",
       "    }\n",
       "\n",
       "    .dataframe thead th {\n",
       "        text-align: right;\n",
       "    }\n",
       "</style>\n",
       "<table border=\"1\" class=\"dataframe\">\n",
       "  <thead>\n",
       "    <tr style=\"text-align: right;\">\n",
       "      <th></th>\n",
       "      <th>store_id</th>\n",
       "      <th>nb_customers_on_day</th>\n",
       "      <th>open</th>\n",
       "      <th>promotion</th>\n",
       "      <th>state_holiday</th>\n",
       "      <th>school_holiday</th>\n",
       "      <th>is_weekend</th>\n",
       "      <th>part_of_year</th>\n",
       "      <th>payday</th>\n",
       "    </tr>\n",
       "  </thead>\n",
       "  <tbody>\n",
       "    <tr>\n",
       "      <th>710086</th>\n",
       "      <td>451</td>\n",
       "      <td>0.161000</td>\n",
       "      <td>1.0</td>\n",
       "      <td>1.0</td>\n",
       "      <td>0.0</td>\n",
       "      <td>0.0</td>\n",
       "      <td>0.0</td>\n",
       "      <td>0.0</td>\n",
       "      <td>1.0</td>\n",
       "    </tr>\n",
       "    <tr>\n",
       "      <th>362964</th>\n",
       "      <td>1088</td>\n",
       "      <td>0.219333</td>\n",
       "      <td>1.0</td>\n",
       "      <td>1.0</td>\n",
       "      <td>0.0</td>\n",
       "      <td>1.0</td>\n",
       "      <td>0.0</td>\n",
       "      <td>0.0</td>\n",
       "      <td>1.0</td>\n",
       "    </tr>\n",
       "    <tr>\n",
       "      <th>511909</th>\n",
       "      <td>384</td>\n",
       "      <td>0.289667</td>\n",
       "      <td>1.0</td>\n",
       "      <td>0.0</td>\n",
       "      <td>0.0</td>\n",
       "      <td>1.0</td>\n",
       "      <td>0.0</td>\n",
       "      <td>0.0</td>\n",
       "      <td>0.0</td>\n",
       "    </tr>\n",
       "    <tr>\n",
       "      <th>459687</th>\n",
       "      <td>435</td>\n",
       "      <td>0.000000</td>\n",
       "      <td>0.0</td>\n",
       "      <td>0.0</td>\n",
       "      <td>0.0</td>\n",
       "      <td>0.0</td>\n",
       "      <td>1.0</td>\n",
       "      <td>0.0</td>\n",
       "      <td>0.0</td>\n",
       "    </tr>\n",
       "    <tr>\n",
       "      <th>638090</th>\n",
       "      <td>401</td>\n",
       "      <td>0.000000</td>\n",
       "      <td>0.0</td>\n",
       "      <td>0.0</td>\n",
       "      <td>0.0</td>\n",
       "      <td>0.0</td>\n",
       "      <td>1.0</td>\n",
       "      <td>1.0</td>\n",
       "      <td>0.0</td>\n",
       "    </tr>\n",
       "    <tr>\n",
       "      <th>...</th>\n",
       "      <td>...</td>\n",
       "      <td>...</td>\n",
       "      <td>...</td>\n",
       "      <td>...</td>\n",
       "      <td>...</td>\n",
       "      <td>...</td>\n",
       "      <td>...</td>\n",
       "      <td>...</td>\n",
       "      <td>...</td>\n",
       "    </tr>\n",
       "    <tr>\n",
       "      <th>319548</th>\n",
       "      <td>1034</td>\n",
       "      <td>0.083667</td>\n",
       "      <td>1.0</td>\n",
       "      <td>0.0</td>\n",
       "      <td>0.0</td>\n",
       "      <td>0.0</td>\n",
       "      <td>0.0</td>\n",
       "      <td>0.0</td>\n",
       "      <td>0.0</td>\n",
       "    </tr>\n",
       "    <tr>\n",
       "      <th>570738</th>\n",
       "      <td>8</td>\n",
       "      <td>0.136667</td>\n",
       "      <td>1.0</td>\n",
       "      <td>0.0</td>\n",
       "      <td>0.0</td>\n",
       "      <td>0.0</td>\n",
       "      <td>0.0</td>\n",
       "      <td>0.0</td>\n",
       "      <td>0.0</td>\n",
       "    </tr>\n",
       "    <tr>\n",
       "      <th>16136</th>\n",
       "      <td>197</td>\n",
       "      <td>0.315667</td>\n",
       "      <td>1.0</td>\n",
       "      <td>1.0</td>\n",
       "      <td>0.0</td>\n",
       "      <td>0.0</td>\n",
       "      <td>0.0</td>\n",
       "      <td>1.0</td>\n",
       "      <td>0.0</td>\n",
       "    </tr>\n",
       "    <tr>\n",
       "      <th>431528</th>\n",
       "      <td>196</td>\n",
       "      <td>0.000000</td>\n",
       "      <td>0.0</td>\n",
       "      <td>0.0</td>\n",
       "      <td>0.0</td>\n",
       "      <td>0.0</td>\n",
       "      <td>1.0</td>\n",
       "      <td>0.0</td>\n",
       "      <td>0.0</td>\n",
       "    </tr>\n",
       "    <tr>\n",
       "      <th>496563</th>\n",
       "      <td>688</td>\n",
       "      <td>0.106667</td>\n",
       "      <td>1.0</td>\n",
       "      <td>0.0</td>\n",
       "      <td>0.0</td>\n",
       "      <td>0.0</td>\n",
       "      <td>0.0</td>\n",
       "      <td>0.0</td>\n",
       "      <td>0.0</td>\n",
       "    </tr>\n",
       "  </tbody>\n",
       "</table>\n",
       "<p>510591 rows × 9 columns</p>\n",
       "</div>"
      ],
      "text/plain": [
       "        store_id  nb_customers_on_day  open  promotion  state_holiday  \\\n",
       "710086       451             0.161000   1.0        1.0            0.0   \n",
       "362964      1088             0.219333   1.0        1.0            0.0   \n",
       "511909       384             0.289667   1.0        0.0            0.0   \n",
       "459687       435             0.000000   0.0        0.0            0.0   \n",
       "638090       401             0.000000   0.0        0.0            0.0   \n",
       "...          ...                  ...   ...        ...            ...   \n",
       "319548      1034             0.083667   1.0        0.0            0.0   \n",
       "570738         8             0.136667   1.0        0.0            0.0   \n",
       "16136        197             0.315667   1.0        1.0            0.0   \n",
       "431528       196             0.000000   0.0        0.0            0.0   \n",
       "496563       688             0.106667   1.0        0.0            0.0   \n",
       "\n",
       "        school_holiday  is_weekend  part_of_year  payday  \n",
       "710086             0.0         0.0           0.0     1.0  \n",
       "362964             1.0         0.0           0.0     1.0  \n",
       "511909             1.0         0.0           0.0     0.0  \n",
       "459687             0.0         1.0           0.0     0.0  \n",
       "638090             0.0         1.0           1.0     0.0  \n",
       "...                ...         ...           ...     ...  \n",
       "319548             0.0         0.0           0.0     0.0  \n",
       "570738             0.0         0.0           0.0     0.0  \n",
       "16136              0.0         0.0           1.0     0.0  \n",
       "431528             0.0         1.0           0.0     0.0  \n",
       "496563             0.0         0.0           0.0     0.0  \n",
       "\n",
       "[510591 rows x 9 columns]"
      ]
     },
     "execution_count": 42,
     "metadata": {},
     "output_type": "execute_result"
    }
   ],
   "source": [
    "X_train"
   ]
  },
  {
   "cell_type": "markdown",
   "metadata": {},
   "source": [
    "> build models"
   ]
  },
  {
   "cell_type": "code",
   "execution_count": 43,
   "metadata": {},
   "outputs": [
    {
     "data": {
      "text/plain": [
       "0.8559484315273544"
      ]
     },
     "metadata": {},
     "output_type": "display_data"
    },
    {
     "data": {
      "text/plain": [
       "1422.770848991585"
      ]
     },
     "metadata": {},
     "output_type": "display_data"
    }
   ],
   "source": [
    "linear_model = LinearRegression()\n",
    "linear_model.fit(X_train, y_train)\n",
    "linear_preds = linear_model.predict(X_test)\n",
    "linear_rmse = np.sqrt(mean_squared_error(y_test, linear_preds))\n",
    "r2 = r2_score(y_test,linear_preds)\n",
    "display(r2)\n",
    "display(linear_rmse)"
   ]
  },
  {
   "cell_type": "code",
   "execution_count": 44,
   "metadata": {},
   "outputs": [
    {
     "data": {
      "text/plain": [
       "0.9470454061203792"
      ]
     },
     "metadata": {},
     "output_type": "display_data"
    },
    {
     "data": {
      "text/plain": [
       "862.6364074857393"
      ]
     },
     "metadata": {},
     "output_type": "display_data"
    }
   ],
   "source": [
    "tree_model = DecisionTreeRegressor()\n",
    "tree_model.fit(X_train, y_train)\n",
    "tree_preds = tree_model.predict(X_test)\n",
    "tree_rmse = np.sqrt(mean_squared_error(y_test, tree_preds))\n",
    "tree_r2 = r2_score(y_test, tree_preds)\n",
    "\n",
    "display(tree_r2)\n",
    "display(tree_rmse)"
   ]
  },
  {
   "cell_type": "code",
   "execution_count": 45,
   "metadata": {},
   "outputs": [
    {
     "name": "stdout",
     "output_type": "stream",
     "text": [
      "Random Forest R2 Score: 0.969136593988469\n",
      "Random Forest RMSE: 658.5638516408336\n"
     ]
    }
   ],
   "source": [
    "rf_model = RandomForestRegressor()\n",
    "rf_model.fit(X_train, y_train)\n",
    "rf_preds = rf_model.predict(X_test)\n",
    "rf_rmse = np.sqrt(mean_squared_error(y_test, rf_preds))\n",
    "rf_r2 = r2_score(y_test, rf_preds)\n",
    "print(\"Random Forest R2 Score:\", rf_r2)\n",
    "print(\"Random Forest RMSE:\", rf_rmse)"
   ]
  },
  {
   "cell_type": "markdown",
   "metadata": {},
   "source": [
    "Random Forest R2 Score: 0.9692687952256781  \n",
    "Random Forest RMSE: 657.1518819417315"
   ]
  },
  {
   "cell_type": "code",
   "execution_count": 46,
   "metadata": {},
   "outputs": [
    {
     "data": {
      "text/html": [
       "<div>\n",
       "<style scoped>\n",
       "    .dataframe tbody tr th:only-of-type {\n",
       "        vertical-align: middle;\n",
       "    }\n",
       "\n",
       "    .dataframe tbody tr th {\n",
       "        vertical-align: top;\n",
       "    }\n",
       "\n",
       "    .dataframe thead th {\n",
       "        text-align: right;\n",
       "    }\n",
       "</style>\n",
       "<table border=\"1\" class=\"dataframe\">\n",
       "  <thead>\n",
       "    <tr style=\"text-align: right;\">\n",
       "      <th></th>\n",
       "      <th>store_id</th>\n",
       "      <th>nb_customers_on_day</th>\n",
       "      <th>open</th>\n",
       "      <th>promotion</th>\n",
       "      <th>state_holiday</th>\n",
       "      <th>school_holiday</th>\n",
       "      <th>is_weekend</th>\n",
       "      <th>part_of_year</th>\n",
       "      <th>payday</th>\n",
       "    </tr>\n",
       "  </thead>\n",
       "  <tbody>\n",
       "    <tr>\n",
       "      <th>710086</th>\n",
       "      <td>451</td>\n",
       "      <td>0.161000</td>\n",
       "      <td>1.0</td>\n",
       "      <td>1.0</td>\n",
       "      <td>0.0</td>\n",
       "      <td>0.0</td>\n",
       "      <td>0.0</td>\n",
       "      <td>0.0</td>\n",
       "      <td>1.0</td>\n",
       "    </tr>\n",
       "    <tr>\n",
       "      <th>362964</th>\n",
       "      <td>1088</td>\n",
       "      <td>0.219333</td>\n",
       "      <td>1.0</td>\n",
       "      <td>1.0</td>\n",
       "      <td>0.0</td>\n",
       "      <td>1.0</td>\n",
       "      <td>0.0</td>\n",
       "      <td>0.0</td>\n",
       "      <td>1.0</td>\n",
       "    </tr>\n",
       "    <tr>\n",
       "      <th>511909</th>\n",
       "      <td>384</td>\n",
       "      <td>0.289667</td>\n",
       "      <td>1.0</td>\n",
       "      <td>0.0</td>\n",
       "      <td>0.0</td>\n",
       "      <td>1.0</td>\n",
       "      <td>0.0</td>\n",
       "      <td>0.0</td>\n",
       "      <td>0.0</td>\n",
       "    </tr>\n",
       "    <tr>\n",
       "      <th>459687</th>\n",
       "      <td>435</td>\n",
       "      <td>0.000000</td>\n",
       "      <td>0.0</td>\n",
       "      <td>0.0</td>\n",
       "      <td>0.0</td>\n",
       "      <td>0.0</td>\n",
       "      <td>1.0</td>\n",
       "      <td>0.0</td>\n",
       "      <td>0.0</td>\n",
       "    </tr>\n",
       "    <tr>\n",
       "      <th>638090</th>\n",
       "      <td>401</td>\n",
       "      <td>0.000000</td>\n",
       "      <td>0.0</td>\n",
       "      <td>0.0</td>\n",
       "      <td>0.0</td>\n",
       "      <td>0.0</td>\n",
       "      <td>1.0</td>\n",
       "      <td>1.0</td>\n",
       "      <td>0.0</td>\n",
       "    </tr>\n",
       "    <tr>\n",
       "      <th>...</th>\n",
       "      <td>...</td>\n",
       "      <td>...</td>\n",
       "      <td>...</td>\n",
       "      <td>...</td>\n",
       "      <td>...</td>\n",
       "      <td>...</td>\n",
       "      <td>...</td>\n",
       "      <td>...</td>\n",
       "      <td>...</td>\n",
       "    </tr>\n",
       "    <tr>\n",
       "      <th>319548</th>\n",
       "      <td>1034</td>\n",
       "      <td>0.083667</td>\n",
       "      <td>1.0</td>\n",
       "      <td>0.0</td>\n",
       "      <td>0.0</td>\n",
       "      <td>0.0</td>\n",
       "      <td>0.0</td>\n",
       "      <td>0.0</td>\n",
       "      <td>0.0</td>\n",
       "    </tr>\n",
       "    <tr>\n",
       "      <th>570738</th>\n",
       "      <td>8</td>\n",
       "      <td>0.136667</td>\n",
       "      <td>1.0</td>\n",
       "      <td>0.0</td>\n",
       "      <td>0.0</td>\n",
       "      <td>0.0</td>\n",
       "      <td>0.0</td>\n",
       "      <td>0.0</td>\n",
       "      <td>0.0</td>\n",
       "    </tr>\n",
       "    <tr>\n",
       "      <th>16136</th>\n",
       "      <td>197</td>\n",
       "      <td>0.315667</td>\n",
       "      <td>1.0</td>\n",
       "      <td>1.0</td>\n",
       "      <td>0.0</td>\n",
       "      <td>0.0</td>\n",
       "      <td>0.0</td>\n",
       "      <td>1.0</td>\n",
       "      <td>0.0</td>\n",
       "    </tr>\n",
       "    <tr>\n",
       "      <th>431528</th>\n",
       "      <td>196</td>\n",
       "      <td>0.000000</td>\n",
       "      <td>0.0</td>\n",
       "      <td>0.0</td>\n",
       "      <td>0.0</td>\n",
       "      <td>0.0</td>\n",
       "      <td>1.0</td>\n",
       "      <td>0.0</td>\n",
       "      <td>0.0</td>\n",
       "    </tr>\n",
       "    <tr>\n",
       "      <th>496563</th>\n",
       "      <td>688</td>\n",
       "      <td>0.106667</td>\n",
       "      <td>1.0</td>\n",
       "      <td>0.0</td>\n",
       "      <td>0.0</td>\n",
       "      <td>0.0</td>\n",
       "      <td>0.0</td>\n",
       "      <td>0.0</td>\n",
       "      <td>0.0</td>\n",
       "    </tr>\n",
       "  </tbody>\n",
       "</table>\n",
       "<p>510591 rows × 9 columns</p>\n",
       "</div>"
      ],
      "text/plain": [
       "        store_id  nb_customers_on_day  open  promotion  state_holiday  \\\n",
       "710086       451             0.161000   1.0        1.0            0.0   \n",
       "362964      1088             0.219333   1.0        1.0            0.0   \n",
       "511909       384             0.289667   1.0        0.0            0.0   \n",
       "459687       435             0.000000   0.0        0.0            0.0   \n",
       "638090       401             0.000000   0.0        0.0            0.0   \n",
       "...          ...                  ...   ...        ...            ...   \n",
       "319548      1034             0.083667   1.0        0.0            0.0   \n",
       "570738         8             0.136667   1.0        0.0            0.0   \n",
       "16136        197             0.315667   1.0        1.0            0.0   \n",
       "431528       196             0.000000   0.0        0.0            0.0   \n",
       "496563       688             0.106667   1.0        0.0            0.0   \n",
       "\n",
       "        school_holiday  is_weekend  part_of_year  payday  \n",
       "710086             0.0         0.0           0.0     1.0  \n",
       "362964             1.0         0.0           0.0     1.0  \n",
       "511909             1.0         0.0           0.0     0.0  \n",
       "459687             0.0         1.0           0.0     0.0  \n",
       "638090             0.0         1.0           1.0     0.0  \n",
       "...                ...         ...           ...     ...  \n",
       "319548             0.0         0.0           0.0     0.0  \n",
       "570738             0.0         0.0           0.0     0.0  \n",
       "16136              0.0         0.0           1.0     0.0  \n",
       "431528             0.0         1.0           0.0     0.0  \n",
       "496563             0.0         0.0           0.0     0.0  \n",
       "\n",
       "[510591 rows x 9 columns]"
      ]
     },
     "execution_count": 46,
     "metadata": {},
     "output_type": "execute_result"
    }
   ],
   "source": [
    "X_train"
   ]
  },
  {
   "cell_type": "markdown",
   "metadata": {},
   "source": [
    "### build model on full data set"
   ]
  },
  {
   "cell_type": "code",
   "execution_count": 47,
   "metadata": {},
   "outputs": [],
   "source": [
    "X = data.drop(columns=['sales'])\n",
    "y = data['sales']\n",
    "categorical_to_encode = ['part_of_year', 'open', 'promotion','state_holiday', 'school_holiday', 'is_weekend', 'payday'] \n",
    "numerical_to_scale = ['nb_customers_on_day']"
   ]
  },
  {
   "cell_type": "code",
   "execution_count": 48,
   "metadata": {},
   "outputs": [],
   "source": [
    "## scale numericals\n",
    "scaler = MinMaxScaler()\n",
    "X[numerical_to_scale] = scaler.fit_transform(X[numerical_to_scale])\n",
    "# ordinal encode categorical\n",
    "encoder = OrdinalEncoder()\n",
    "X[categorical_to_encode] = encoder.fit_transform(X[categorical_to_encode])"
   ]
  },
  {
   "cell_type": "code",
   "execution_count": 49,
   "metadata": {},
   "outputs": [
    {
     "data": {
      "text/html": [
       "<div>\n",
       "<style scoped>\n",
       "    .dataframe tbody tr th:only-of-type {\n",
       "        vertical-align: middle;\n",
       "    }\n",
       "\n",
       "    .dataframe tbody tr th {\n",
       "        vertical-align: top;\n",
       "    }\n",
       "\n",
       "    .dataframe thead th {\n",
       "        text-align: right;\n",
       "    }\n",
       "</style>\n",
       "<table border=\"1\" class=\"dataframe\">\n",
       "  <thead>\n",
       "    <tr style=\"text-align: right;\">\n",
       "      <th></th>\n",
       "      <th>store_id</th>\n",
       "      <th>nb_customers_on_day</th>\n",
       "      <th>open</th>\n",
       "      <th>promotion</th>\n",
       "      <th>state_holiday</th>\n",
       "      <th>school_holiday</th>\n",
       "      <th>is_weekend</th>\n",
       "      <th>part_of_year</th>\n",
       "      <th>payday</th>\n",
       "    </tr>\n",
       "  </thead>\n",
       "  <tbody>\n",
       "    <tr>\n",
       "      <th>425390</th>\n",
       "      <td>366</td>\n",
       "      <td>0.172333</td>\n",
       "      <td>1.0</td>\n",
       "      <td>0.0</td>\n",
       "      <td>0.0</td>\n",
       "      <td>0.0</td>\n",
       "      <td>0.0</td>\n",
       "      <td>0.0</td>\n",
       "      <td>1.0</td>\n",
       "    </tr>\n",
       "    <tr>\n",
       "      <th>291687</th>\n",
       "      <td>394</td>\n",
       "      <td>0.231333</td>\n",
       "      <td>1.0</td>\n",
       "      <td>0.0</td>\n",
       "      <td>0.0</td>\n",
       "      <td>0.0</td>\n",
       "      <td>0.0</td>\n",
       "      <td>0.0</td>\n",
       "      <td>0.0</td>\n",
       "    </tr>\n",
       "    <tr>\n",
       "      <th>411278</th>\n",
       "      <td>807</td>\n",
       "      <td>0.323333</td>\n",
       "      <td>1.0</td>\n",
       "      <td>1.0</td>\n",
       "      <td>0.0</td>\n",
       "      <td>0.0</td>\n",
       "      <td>0.0</td>\n",
       "      <td>1.0</td>\n",
       "      <td>0.0</td>\n",
       "    </tr>\n",
       "    <tr>\n",
       "      <th>664714</th>\n",
       "      <td>802</td>\n",
       "      <td>0.157667</td>\n",
       "      <td>1.0</td>\n",
       "      <td>1.0</td>\n",
       "      <td>0.0</td>\n",
       "      <td>0.0</td>\n",
       "      <td>0.0</td>\n",
       "      <td>0.0</td>\n",
       "      <td>0.0</td>\n",
       "    </tr>\n",
       "    <tr>\n",
       "      <th>540835</th>\n",
       "      <td>726</td>\n",
       "      <td>0.356000</td>\n",
       "      <td>1.0</td>\n",
       "      <td>1.0</td>\n",
       "      <td>0.0</td>\n",
       "      <td>0.0</td>\n",
       "      <td>0.0</td>\n",
       "      <td>1.0</td>\n",
       "      <td>0.0</td>\n",
       "    </tr>\n",
       "    <tr>\n",
       "      <th>...</th>\n",
       "      <td>...</td>\n",
       "      <td>...</td>\n",
       "      <td>...</td>\n",
       "      <td>...</td>\n",
       "      <td>...</td>\n",
       "      <td>...</td>\n",
       "      <td>...</td>\n",
       "      <td>...</td>\n",
       "      <td>...</td>\n",
       "    </tr>\n",
       "    <tr>\n",
       "      <th>359783</th>\n",
       "      <td>409</td>\n",
       "      <td>0.161000</td>\n",
       "      <td>1.0</td>\n",
       "      <td>0.0</td>\n",
       "      <td>0.0</td>\n",
       "      <td>0.0</td>\n",
       "      <td>0.0</td>\n",
       "      <td>1.0</td>\n",
       "      <td>0.0</td>\n",
       "    </tr>\n",
       "    <tr>\n",
       "      <th>152315</th>\n",
       "      <td>97</td>\n",
       "      <td>0.329000</td>\n",
       "      <td>1.0</td>\n",
       "      <td>1.0</td>\n",
       "      <td>0.0</td>\n",
       "      <td>0.0</td>\n",
       "      <td>0.0</td>\n",
       "      <td>0.0</td>\n",
       "      <td>0.0</td>\n",
       "    </tr>\n",
       "    <tr>\n",
       "      <th>117952</th>\n",
       "      <td>987</td>\n",
       "      <td>0.308333</td>\n",
       "      <td>1.0</td>\n",
       "      <td>0.0</td>\n",
       "      <td>0.0</td>\n",
       "      <td>0.0</td>\n",
       "      <td>0.0</td>\n",
       "      <td>0.0</td>\n",
       "      <td>1.0</td>\n",
       "    </tr>\n",
       "    <tr>\n",
       "      <th>435829</th>\n",
       "      <td>1084</td>\n",
       "      <td>0.241667</td>\n",
       "      <td>1.0</td>\n",
       "      <td>0.0</td>\n",
       "      <td>0.0</td>\n",
       "      <td>0.0</td>\n",
       "      <td>0.0</td>\n",
       "      <td>0.0</td>\n",
       "      <td>0.0</td>\n",
       "    </tr>\n",
       "    <tr>\n",
       "      <th>305711</th>\n",
       "      <td>695</td>\n",
       "      <td>0.000000</td>\n",
       "      <td>0.0</td>\n",
       "      <td>0.0</td>\n",
       "      <td>0.0</td>\n",
       "      <td>0.0</td>\n",
       "      <td>1.0</td>\n",
       "      <td>0.0</td>\n",
       "      <td>1.0</td>\n",
       "    </tr>\n",
       "  </tbody>\n",
       "</table>\n",
       "<p>638239 rows × 9 columns</p>\n",
       "</div>"
      ],
      "text/plain": [
       "        store_id  nb_customers_on_day  open  promotion  state_holiday  \\\n",
       "425390       366             0.172333   1.0        0.0            0.0   \n",
       "291687       394             0.231333   1.0        0.0            0.0   \n",
       "411278       807             0.323333   1.0        1.0            0.0   \n",
       "664714       802             0.157667   1.0        1.0            0.0   \n",
       "540835       726             0.356000   1.0        1.0            0.0   \n",
       "...          ...                  ...   ...        ...            ...   \n",
       "359783       409             0.161000   1.0        0.0            0.0   \n",
       "152315        97             0.329000   1.0        1.0            0.0   \n",
       "117952       987             0.308333   1.0        0.0            0.0   \n",
       "435829      1084             0.241667   1.0        0.0            0.0   \n",
       "305711       695             0.000000   0.0        0.0            0.0   \n",
       "\n",
       "        school_holiday  is_weekend  part_of_year  payday  \n",
       "425390             0.0         0.0           0.0     1.0  \n",
       "291687             0.0         0.0           0.0     0.0  \n",
       "411278             0.0         0.0           1.0     0.0  \n",
       "664714             0.0         0.0           0.0     0.0  \n",
       "540835             0.0         0.0           1.0     0.0  \n",
       "...                ...         ...           ...     ...  \n",
       "359783             0.0         0.0           1.0     0.0  \n",
       "152315             0.0         0.0           0.0     0.0  \n",
       "117952             0.0         0.0           0.0     1.0  \n",
       "435829             0.0         0.0           0.0     0.0  \n",
       "305711             0.0         1.0           0.0     1.0  \n",
       "\n",
       "[638239 rows x 9 columns]"
      ]
     },
     "execution_count": 49,
     "metadata": {},
     "output_type": "execute_result"
    }
   ],
   "source": [
    "X"
   ]
  },
  {
   "cell_type": "code",
   "execution_count": 50,
   "metadata": {},
   "outputs": [
    {
     "data": {
      "text/html": [
       "<style>#sk-container-id-1 {color: black;background-color: white;}#sk-container-id-1 pre{padding: 0;}#sk-container-id-1 div.sk-toggleable {background-color: white;}#sk-container-id-1 label.sk-toggleable__label {cursor: pointer;display: block;width: 100%;margin-bottom: 0;padding: 0.3em;box-sizing: border-box;text-align: center;}#sk-container-id-1 label.sk-toggleable__label-arrow:before {content: \"▸\";float: left;margin-right: 0.25em;color: #696969;}#sk-container-id-1 label.sk-toggleable__label-arrow:hover:before {color: black;}#sk-container-id-1 div.sk-estimator:hover label.sk-toggleable__label-arrow:before {color: black;}#sk-container-id-1 div.sk-toggleable__content {max-height: 0;max-width: 0;overflow: hidden;text-align: left;background-color: #f0f8ff;}#sk-container-id-1 div.sk-toggleable__content pre {margin: 0.2em;color: black;border-radius: 0.25em;background-color: #f0f8ff;}#sk-container-id-1 input.sk-toggleable__control:checked~div.sk-toggleable__content {max-height: 200px;max-width: 100%;overflow: auto;}#sk-container-id-1 input.sk-toggleable__control:checked~label.sk-toggleable__label-arrow:before {content: \"▾\";}#sk-container-id-1 div.sk-estimator input.sk-toggleable__control:checked~label.sk-toggleable__label {background-color: #d4ebff;}#sk-container-id-1 div.sk-label input.sk-toggleable__control:checked~label.sk-toggleable__label {background-color: #d4ebff;}#sk-container-id-1 input.sk-hidden--visually {border: 0;clip: rect(1px 1px 1px 1px);clip: rect(1px, 1px, 1px, 1px);height: 1px;margin: -1px;overflow: hidden;padding: 0;position: absolute;width: 1px;}#sk-container-id-1 div.sk-estimator {font-family: monospace;background-color: #f0f8ff;border: 1px dotted black;border-radius: 0.25em;box-sizing: border-box;margin-bottom: 0.5em;}#sk-container-id-1 div.sk-estimator:hover {background-color: #d4ebff;}#sk-container-id-1 div.sk-parallel-item::after {content: \"\";width: 100%;border-bottom: 1px solid gray;flex-grow: 1;}#sk-container-id-1 div.sk-label:hover label.sk-toggleable__label {background-color: #d4ebff;}#sk-container-id-1 div.sk-serial::before {content: \"\";position: absolute;border-left: 1px solid gray;box-sizing: border-box;top: 0;bottom: 0;left: 50%;z-index: 0;}#sk-container-id-1 div.sk-serial {display: flex;flex-direction: column;align-items: center;background-color: white;padding-right: 0.2em;padding-left: 0.2em;position: relative;}#sk-container-id-1 div.sk-item {position: relative;z-index: 1;}#sk-container-id-1 div.sk-parallel {display: flex;align-items: stretch;justify-content: center;background-color: white;position: relative;}#sk-container-id-1 div.sk-item::before, #sk-container-id-1 div.sk-parallel-item::before {content: \"\";position: absolute;border-left: 1px solid gray;box-sizing: border-box;top: 0;bottom: 0;left: 50%;z-index: -1;}#sk-container-id-1 div.sk-parallel-item {display: flex;flex-direction: column;z-index: 1;position: relative;background-color: white;}#sk-container-id-1 div.sk-parallel-item:first-child::after {align-self: flex-end;width: 50%;}#sk-container-id-1 div.sk-parallel-item:last-child::after {align-self: flex-start;width: 50%;}#sk-container-id-1 div.sk-parallel-item:only-child::after {width: 0;}#sk-container-id-1 div.sk-dashed-wrapped {border: 1px dashed gray;margin: 0 0.4em 0.5em 0.4em;box-sizing: border-box;padding-bottom: 0.4em;background-color: white;}#sk-container-id-1 div.sk-label label {font-family: monospace;font-weight: bold;display: inline-block;line-height: 1.2em;}#sk-container-id-1 div.sk-label-container {text-align: center;}#sk-container-id-1 div.sk-container {/* jupyter's `normalize.less` sets `[hidden] { display: none; }` but bootstrap.min.css set `[hidden] { display: none !important; }` so we also need the `!important` here to be able to override the default hidden behavior on the sphinx rendered scikit-learn.org. See: https://github.com/scikit-learn/scikit-learn/issues/21755 */display: inline-block !important;position: relative;}#sk-container-id-1 div.sk-text-repr-fallback {display: none;}</style><div id=\"sk-container-id-1\" class=\"sk-top-container\"><div class=\"sk-text-repr-fallback\"><pre>RandomForestRegressor()</pre><b>In a Jupyter environment, please rerun this cell to show the HTML representation or trust the notebook. <br />On GitHub, the HTML representation is unable to render, please try loading this page with nbviewer.org.</b></div><div class=\"sk-container\" hidden><div class=\"sk-item\"><div class=\"sk-estimator sk-toggleable\"><input class=\"sk-toggleable__control sk-hidden--visually\" id=\"sk-estimator-id-1\" type=\"checkbox\" checked><label for=\"sk-estimator-id-1\" class=\"sk-toggleable__label sk-toggleable__label-arrow\">RandomForestRegressor</label><div class=\"sk-toggleable__content\"><pre>RandomForestRegressor()</pre></div></div></div></div></div>"
      ],
      "text/plain": [
       "RandomForestRegressor()"
      ]
     },
     "execution_count": 50,
     "metadata": {},
     "output_type": "execute_result"
    }
   ],
   "source": [
    "# Initialize Random Forest Regressor\n",
    "rf_model = RandomForestRegressor()\n",
    "\n",
    "# Fit the model on the training data\n",
    "rf_model.fit(X, y)"
   ]
  },
  {
   "cell_type": "code",
   "execution_count": 51,
   "metadata": {},
   "outputs": [],
   "source": [
    "# added to gitignore\n",
    "import pickle\n",
    "with open('random_forest_model.pkl', 'wb') as file:\n",
    "    pickle.dump(rf_model, file)\n",
    "\n",
    "with open('random_forest_scaler.pkl', 'wb') as file:\n",
    "    pickle.dump(scaler, file)\n",
    "\n",
    "with open('random_forest_encoder.pkl', 'wb') as file:\n",
    "    pickle.dump(encoder, file)"
   ]
  },
  {
   "cell_type": "markdown",
   "metadata": {},
   "source": [
    "### apply on full set"
   ]
  },
  {
   "cell_type": "code",
   "execution_count": 73,
   "metadata": {},
   "outputs": [],
   "source": [
    "# Load the trained RandomForestRegressor model\n",
    "with open('random_forest_model.pkl', 'rb') as file:\n",
    "    model = pickle.load(file)\n",
    "\n",
    "# Load the scaler\n",
    "with open('random_forest_scaler.pkl', 'rb') as file:\n",
    "    scaler = pickle.load(file)\n",
    "\n",
    "# Load the encoder\n",
    "with open('random_forest_encoder.pkl', 'rb') as file:\n",
    "    encoder = pickle.load(file)"
   ]
  },
  {
   "cell_type": "code",
   "execution_count": 107,
   "metadata": {},
   "outputs": [],
   "source": [
    "# Function that returns and saves df of sales predictions\n",
    "def get_sales_predictions(model, scaler, encoder, test_data_url):\n",
    "    test_data = pd.read_csv(test_data_url, index_col=None)\n",
    "\n",
    "    # rename, lower\n",
    "    test_data.columns = test_data.columns.str.lower()\n",
    "    test_data = test_data.rename(columns={'true_index': 'index'})\n",
    "\n",
    "    # feature enigneering\n",
    "    test_data['state_holiday'] = test_data['state_holiday'].map({'0': 0,'a': 1, 'b': 1, 'c': 1})\n",
    "    test_data['date'] = pd.to_datetime(test_data['date'])\n",
    "    test_data['year'] = test_data['date'].dt.year\n",
    "    test_data['month'] = test_data['date'].dt.month\n",
    "    test_data['day'] = test_data['date'].dt.day\n",
    "    test_data['part_of_year'] = test_data['month'].apply(lambda x: 'first' if x <= 7 else 'last')\n",
    "    test_data['is_weekend'] = test_data['day_of_week'].apply(lambda x: 1 if x == 7 else 0)\n",
    "    range1 = (2, 9)\n",
    "    range2 = (15, 24)  \n",
    "    test_data['payday'] = np.where((test_data['day'].between(*range1)) | (test_data['day'].between(*range2)), 1, 0)\n",
    "\n",
    "    #encode and scale \n",
    "    categorical_to_encode = ['part_of_year', 'open', 'promotion','state_holiday', 'school_holiday', 'is_weekend', 'payday'] \n",
    "    numerical_to_scale = ['nb_customers_on_day']\n",
    "    test_data[numerical_to_scale] = scaler.transform(test_data[numerical_to_scale])\n",
    "    test_data[categorical_to_encode] = encoder.transform(test_data[categorical_to_encode])\n",
    "\n",
    "    # filter data \n",
    "    selected_columns = ['store_id', 'nb_customers_on_day', 'open', 'promotion', 'state_holiday',\n",
    "        'school_holiday', 'is_weekend', 'part_of_year', 'payday']\n",
    "    model_data = test_data[selected_columns]\n",
    "\n",
    "    # get predictions \n",
    "    test_data['Sales'] = model.predict(model_data)\n",
    "    sales_predictions = test_data[['index', 'Sales']]\n",
    "    sales_predictions.set_index('index', inplace=True)\n",
    "\n",
    "    # save to file\n",
    "    sales_predictions.to_csv('sales_predictions.csv')\n",
    "\n",
    "    # returns df\n",
    "    return sales_predictions"
   ]
  },
  {
   "cell_type": "code",
   "execution_count": 108,
   "metadata": {},
   "outputs": [
    {
     "data": {
      "text/html": [
       "<div>\n",
       "<style scoped>\n",
       "    .dataframe tbody tr th:only-of-type {\n",
       "        vertical-align: middle;\n",
       "    }\n",
       "\n",
       "    .dataframe tbody tr th {\n",
       "        vertical-align: top;\n",
       "    }\n",
       "\n",
       "    .dataframe thead th {\n",
       "        text-align: right;\n",
       "    }\n",
       "</style>\n",
       "<table border=\"1\" class=\"dataframe\">\n",
       "  <thead>\n",
       "    <tr style=\"text-align: right;\">\n",
       "      <th></th>\n",
       "      <th>Sales</th>\n",
       "    </tr>\n",
       "    <tr>\n",
       "      <th>index</th>\n",
       "      <th></th>\n",
       "    </tr>\n",
       "  </thead>\n",
       "  <tbody>\n",
       "    <tr>\n",
       "      <th>7</th>\n",
       "      <td>0.000000</td>\n",
       "    </tr>\n",
       "    <tr>\n",
       "      <th>19</th>\n",
       "      <td>3615.922333</td>\n",
       "    </tr>\n",
       "    <tr>\n",
       "      <th>31</th>\n",
       "      <td>6229.532500</td>\n",
       "    </tr>\n",
       "    <tr>\n",
       "      <th>45</th>\n",
       "      <td>3831.610000</td>\n",
       "    </tr>\n",
       "    <tr>\n",
       "      <th>56</th>\n",
       "      <td>3761.130000</td>\n",
       "    </tr>\n",
       "    <tr>\n",
       "      <th>...</th>\n",
       "      <td>...</td>\n",
       "    </tr>\n",
       "    <tr>\n",
       "      <th>712004</th>\n",
       "      <td>5880.156667</td>\n",
       "    </tr>\n",
       "    <tr>\n",
       "      <th>712018</th>\n",
       "      <td>10838.720000</td>\n",
       "    </tr>\n",
       "    <tr>\n",
       "      <th>712020</th>\n",
       "      <td>17389.204667</td>\n",
       "    </tr>\n",
       "    <tr>\n",
       "      <th>712023</th>\n",
       "      <td>0.000000</td>\n",
       "    </tr>\n",
       "    <tr>\n",
       "      <th>712027</th>\n",
       "      <td>4586.446667</td>\n",
       "    </tr>\n",
       "  </tbody>\n",
       "</table>\n",
       "<p>71205 rows × 1 columns</p>\n",
       "</div>"
      ],
      "text/plain": [
       "               Sales\n",
       "index               \n",
       "7           0.000000\n",
       "19       3615.922333\n",
       "31       6229.532500\n",
       "45       3831.610000\n",
       "56       3761.130000\n",
       "...              ...\n",
       "712004   5880.156667\n",
       "712018  10838.720000\n",
       "712020  17389.204667\n",
       "712023      0.000000\n",
       "712027   4586.446667\n",
       "\n",
       "[71205 rows x 1 columns]"
      ]
     },
     "execution_count": 108,
     "metadata": {},
     "output_type": "execute_result"
    }
   ],
   "source": [
    "sales_predictions = get_sales_predictions(model, scaler, encoder, 'validation_for_students.csv')\n",
    "sales_predictions"
   ]
  }
 ],
 "metadata": {
  "kernelspec": {
   "display_name": "base",
   "language": "python",
   "name": "python3"
  },
  "language_info": {
   "codemirror_mode": {
    "name": "ipython",
    "version": 3
   },
   "file_extension": ".py",
   "mimetype": "text/x-python",
   "name": "python",
   "nbconvert_exporter": "python",
   "pygments_lexer": "ipython3",
   "version": "3.11.7"
  }
 },
 "nbformat": 4,
 "nbformat_minor": 2
}
