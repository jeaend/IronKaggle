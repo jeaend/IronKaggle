{
 "cells": [
  {
   "cell_type": "code",
   "execution_count": null,
   "metadata": {},
   "outputs": [],
   "source": [
    "def get_sales_predictions(model, scaler, encoder, test_data):\n",
    "    test_data['state_holiday'] = test_data['state_holiday'].map({'0': 0,'a': 1, 'b': 1, 'c': 1})\n",
    "    test_data['date'] = pd.to_datetime(test_data['date'])\n",
    "    test_data['year'] = test_data['date'].dt.year\n",
    "    test_data['month'] = test_data['date'].dt.month\n",
    "    test_data['day'] = test_data['date'].dt.day\n",
    "    test_data['part_of_year'] = test_data['month'].apply(lambda x: 'first' if x <= 7 else 'last')\n",
    "    test_data['is_weekend'] = test_data['day_of_week'].apply(lambda x: 1 if x == 7 else 0)\n",
    "\n",
    "    categorical_to_encode = ['year', 'part_of_year'] \n",
    "    numerical_to_scale = ['nb_customers_on_day']\n",
    "    test_data[numerical_to_scale] = scaler.transform(test_data[numerical_to_scale])\n",
    "    test_data[categorical_to_encode] = encoder.transform(test_data[categorical_to_encode])\n",
    "\n",
    "    selected_columns = ['store_ID', 'nb_customers_on_day', 'open', 'promotion', 'state_holiday', 'school_holiday', 'year', 'day', 'part_of_year', 'is_weekend']\n",
    "    test_data = test_data[selected_columns]\n",
    "\n",
    "    predictions_df['sales'] = model.predict(test_data)\n",
    "\n",
    "    return predictions_df"
   ]
  }
 ],
 "metadata": {
  "language_info": {
   "name": "python"
  }
 },
 "nbformat": 4,
 "nbformat_minor": 2
}
